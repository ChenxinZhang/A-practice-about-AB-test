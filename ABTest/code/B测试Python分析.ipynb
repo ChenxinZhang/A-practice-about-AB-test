{
 "cells": [
  {
   "cell_type": "markdown",
   "metadata": {
    "id": "69B76AFDBA0744F0BC5760E523E5CC82",
    "jupyter": {},
    "mdEditEnable": false,
    "slideshow": {
     "slide_type": "slide"
    },
    "tags": []
   },
   "source": [
    "本文目录\n",
    "\n",
    "![Image Name](https://cdn.kesci.com/upload/image/qiejxoq701.png)\n"
   ]
  },
  {
   "cell_type": "markdown",
   "metadata": {
    "id": "0A11DAD9E148443B8F4808725461431E",
    "jupyter": {},
    "mdEditEnable": false,
    "slideshow": {
     "slide_type": "slide"
    },
    "tags": []
   },
   "source": [
    "# 序言：关于A/B测试："
   ]
  },
  {
   "cell_type": "markdown",
   "metadata": {
    "id": "2E4753040D2C44F181ECD3A394EB1934",
    "jupyter": {},
    "mdEditEnable": false,
    "slideshow": {
     "slide_type": "slide"
    },
    "tags": []
   },
   "source": [
    "是一种源于生物医学中的双盲实验,将试验对象随机分组并针对不同组对象给不同的变量刺激，然后采集实验数据，运用统计学上的假设检验判断不同变量对实验的效果是否显著的科学实验方法。"
   ]
  },
  {
   "cell_type": "markdown",
   "metadata": {
    "id": "FD7AA6C39CA447AB8ECAFB0A6D501542",
    "jupyter": {},
    "mdEditEnable": false,
    "slideshow": {
     "slide_type": "slide"
    },
    "tags": []
   },
   "source": [
    "![Image Name](https://cdn.kesci.com/upload/image/qiehzjoke1.jpg)图源：《增长高阶课》-曲卉"
   ]
  },
  {
   "cell_type": "markdown",
   "metadata": {
    "id": "8B7D195DE34441DCB09C6C5BFD237987",
    "jupyter": {},
    "mdEditEnable": false,
    "slideshow": {
     "slide_type": "slide"
    },
    "tags": []
   },
   "source": [
    "在互联网产品中主要用于通过对同一事物的不同变量 （界面变化，功能变化，人群变化，算法变化）进行测试来看用户更喜欢哪一种，从而达到提升数据指标的目的。"
   ]
  },
  {
   "cell_type": "markdown",
   "metadata": {
    "id": "B5D14DB6F8DA456E854956F12DC12D78",
    "jupyter": {},
    "mdEditEnable": false,
    "slideshow": {
     "slide_type": "slide"
    },
    "tags": []
   },
   "source": [
    "# 1.背景与思路"
   ]
  },
  {
   "cell_type": "markdown",
   "metadata": {
    "id": "445DBC3C8E4C488F8B2B5DC7F9639ED4",
    "jupyter": {},
    "mdEditEnable": false,
    "slideshow": {
     "slide_type": "slide"
    },
    "tags": []
   },
   "source": [
    "## 1.1分析背景"
   ]
  },
  {
   "cell_type": "markdown",
   "metadata": {
    "id": "3D18B12AEB6046038C82AFD5C41001F3",
    "jupyter": {},
    "mdEditEnable": false,
    "slideshow": {
     "slide_type": "slide"
    },
    "tags": []
   },
   "source": [
    "![Image Name](https://cdn.kesci.com/upload/image/qiei6xi5b6.jpg)图源：《增长高阶课》-曲卉"
   ]
  },
  {
   "cell_type": "markdown",
   "metadata": {
    "id": "0F42912F7B9D45168EB59D3CE40788F8",
    "jupyter": {},
    "mdEditEnable": false,
    "slideshow": {
     "slide_type": "slide"
    },
    "tags": []
   },
   "source": [
    "以上是做一个A/B测试实验的基本流程，本次分析的数据集来源于一家电商网站。希望通过对于一次AB测试数据的分析判断新旧两版页面在用户转化上是否有显著区别，帮助公司决定是应当采用新的页面，还是保留老的页面。\n",
    ">（在整个A/B测试实验中属于第五步—分析实验结果）"
   ]
  },
  {
   "cell_type": "markdown",
   "metadata": {
    "id": "8D06684592EB41479F18DF52B435C528",
    "jupyter": {},
    "mdEditEnable": false,
    "slideshow": {
     "slide_type": "slide"
    },
    "tags": []
   },
   "source": [
    "## 1.2分析方法"
   ]
  },
  {
   "cell_type": "code",
   "execution_count": 1,
   "metadata": {
    "ExecuteTime": {
     "end_time": "2021-03-14T13:53:18.793708Z",
     "start_time": "2021-03-14T13:53:17.917437Z"
    },
    "id": "B76C633FF3B4477C860761177B941A2B",
    "jupyter": {},
    "scrolled": false,
    "slideshow": {
     "slide_type": "slide"
    },
    "tags": []
   },
   "outputs": [
    {
     "name": "stderr",
     "output_type": "stream",
     "text": [
      "Duplicate key in file PosixPath('/Users/chengxin/opt/anaconda3/lib/python3.8/site-packages/matplotlib/mpl-data/matplotlibrc'), line 758 ('font.family\\t    : sans-serif')\n",
      "Duplicate key in file PosixPath('/Users/chengxin/opt/anaconda3/lib/python3.8/site-packages/matplotlib/mpl-data/matplotlibrc'), line 759 ('font.sans-serif\\t    : SimHei')\n",
      "Duplicate key in file PosixPath('/Users/chengxin/opt/anaconda3/lib/python3.8/site-packages/matplotlib/mpl-data/matplotlibrc'), line 760 ('axes.unicode_minus   : False')\n"
     ]
    }
   ],
   "source": [
    "'''【导入常用分析包】'''\n",
    "#结构化数据分析工具集\n",
    "import pandas as pd  \n",
    "#科学计算基础软件包\n",
    "import numpy as np\n",
    "#图表绘制工具包\n",
    "import matplotlib.pyplot as plt \n",
    "#基于 matplot, 导入 seaborn 会修改默认的 matplotlib 配色方案和绘图样式，这会提高图表的可读性和美观\n",
    "import seaborn as sns\n",
    "# 在 jupyter notebook 里面显示图表\n",
    "%matplotlib inline"
   ]
  },
  {
   "cell_type": "markdown",
   "metadata": {
    "id": "239966AEC9CC4A9C8A116ADDB76074EC",
    "jupyter": {},
    "mdEditEnable": false,
    "slideshow": {
     "slide_type": "slide"
    },
    "tags": []
   },
   "source": [
    "### 1.2.1查看源数据"
   ]
  },
  {
   "cell_type": "code",
   "execution_count": 2,
   "metadata": {
    "ExecuteTime": {
     "end_time": "2021-03-14T13:53:19.017909Z",
     "start_time": "2021-03-14T13:53:18.795337Z"
    },
    "id": "96FFC94F8E2345728064DC2DF75BAFB2",
    "jupyter": {},
    "scrolled": false,
    "slideshow": {
     "slide_type": "slide"
    },
    "tags": []
   },
   "outputs": [],
   "source": [
    "#导入数据：ab_data\n",
    "ABtest=pd.read_csv(r\"../data/ab_data.csv\")"
   ]
  },
  {
   "cell_type": "code",
   "execution_count": 3,
   "metadata": {
    "ExecuteTime": {
     "end_time": "2021-03-14T13:53:19.027303Z",
     "start_time": "2021-03-14T13:53:19.019258Z"
    },
    "id": "50A0969BBAAE4F8B8AB6081C7F0BB4C0",
    "jupyter": {},
    "scrolled": false,
    "slideshow": {
     "slide_type": "slide"
    },
    "tags": []
   },
   "outputs": [
    {
     "data": {
      "text/html": [
       "<div>\n",
       "<style scoped>\n",
       "    .dataframe tbody tr th:only-of-type {\n",
       "        vertical-align: middle;\n",
       "    }\n",
       "\n",
       "    .dataframe tbody tr th {\n",
       "        vertical-align: top;\n",
       "    }\n",
       "\n",
       "    .dataframe thead th {\n",
       "        text-align: right;\n",
       "    }\n",
       "</style>\n",
       "<table border=\"1\" class=\"dataframe\">\n",
       "  <thead>\n",
       "    <tr style=\"text-align: right;\">\n",
       "      <th></th>\n",
       "      <th>user_id</th>\n",
       "      <th>timestamp</th>\n",
       "      <th>group</th>\n",
       "      <th>landing_page</th>\n",
       "      <th>converted</th>\n",
       "    </tr>\n",
       "  </thead>\n",
       "  <tbody>\n",
       "    <tr>\n",
       "      <th>0</th>\n",
       "      <td>851104</td>\n",
       "      <td>2017-01-21 22:11:48.556739</td>\n",
       "      <td>control</td>\n",
       "      <td>old_page</td>\n",
       "      <td>0</td>\n",
       "    </tr>\n",
       "    <tr>\n",
       "      <th>1</th>\n",
       "      <td>804228</td>\n",
       "      <td>2017-01-12 08:01:45.159739</td>\n",
       "      <td>control</td>\n",
       "      <td>old_page</td>\n",
       "      <td>0</td>\n",
       "    </tr>\n",
       "    <tr>\n",
       "      <th>2</th>\n",
       "      <td>661590</td>\n",
       "      <td>2017-01-11 16:55:06.154213</td>\n",
       "      <td>treatment</td>\n",
       "      <td>new_page</td>\n",
       "      <td>0</td>\n",
       "    </tr>\n",
       "    <tr>\n",
       "      <th>3</th>\n",
       "      <td>853541</td>\n",
       "      <td>2017-01-08 18:28:03.143765</td>\n",
       "      <td>treatment</td>\n",
       "      <td>new_page</td>\n",
       "      <td>0</td>\n",
       "    </tr>\n",
       "    <tr>\n",
       "      <th>4</th>\n",
       "      <td>864975</td>\n",
       "      <td>2017-01-21 01:52:26.210827</td>\n",
       "      <td>control</td>\n",
       "      <td>old_page</td>\n",
       "      <td>1</td>\n",
       "    </tr>\n",
       "  </tbody>\n",
       "</table>\n",
       "</div>"
      ],
      "text/plain": [
       "   user_id                   timestamp      group landing_page  converted\n",
       "0   851104  2017-01-21 22:11:48.556739    control     old_page          0\n",
       "1   804228  2017-01-12 08:01:45.159739    control     old_page          0\n",
       "2   661590  2017-01-11 16:55:06.154213  treatment     new_page          0\n",
       "3   853541  2017-01-08 18:28:03.143765  treatment     new_page          0\n",
       "4   864975  2017-01-21 01:52:26.210827    control     old_page          1"
      ]
     },
     "execution_count": 3,
     "metadata": {},
     "output_type": "execute_result"
    }
   ],
   "source": [
    "#查看前5行数据\n",
    "ABtest.head()"
   ]
  },
  {
   "cell_type": "code",
   "execution_count": 4,
   "metadata": {
    "ExecuteTime": {
     "end_time": "2021-03-14T13:53:19.063898Z",
     "start_time": "2021-03-14T13:53:19.029057Z"
    },
    "id": "871933D886484F468E1276026A371EDF",
    "jupyter": {},
    "scrolled": false,
    "slideshow": {
     "slide_type": "slide"
    },
    "tags": []
   },
   "outputs": [
    {
     "name": "stdout",
     "output_type": "stream",
     "text": [
      "<class 'pandas.core.frame.DataFrame'>\n",
      "RangeIndex: 294478 entries, 0 to 294477\n",
      "Data columns (total 5 columns):\n",
      " #   Column        Non-Null Count   Dtype \n",
      "---  ------        --------------   ----- \n",
      " 0   user_id       294478 non-null  int64 \n",
      " 1   timestamp     294478 non-null  object\n",
      " 2   group         294478 non-null  object\n",
      " 3   landing_page  294478 non-null  object\n",
      " 4   converted     294478 non-null  int64 \n",
      "dtypes: int64(2), object(3)\n",
      "memory usage: 11.2+ MB\n"
     ]
    }
   ],
   "source": [
    "#通过info函数查看数据信息\n",
    "ABtest.info()"
   ]
  },
  {
   "cell_type": "markdown",
   "metadata": {
    "id": "2D697B6B506146FF8D689B0478CC04A8",
    "jupyter": {},
    "mdEditEnable": false,
    "slideshow": {
     "slide_type": "slide"
    },
    "tags": []
   },
   "source": [
    "### 1.2.2确定分析方法"
   ]
  },
  {
   "cell_type": "markdown",
   "metadata": {
    "id": "0950D9D083314F4582506CC22B6DBC75",
    "jupyter": {},
    "mdEditEnable": false,
    "slideshow": {
     "slide_type": "slide"
    },
    "tags": []
   },
   "source": [
    "\n",
    "![Image Name](https://cdn.kesci.com/upload/image/qieigu4sph.png)\n"
   ]
  },
  {
   "cell_type": "markdown",
   "metadata": {
    "id": "4B018656E4884842938E21C3FDE32152",
    "jupyter": {},
    "mdEditEnable": false,
    "slideshow": {
     "slide_type": "slide"
    },
    "tags": []
   },
   "source": [
    "首先我们要对数据进行检查和清洗，确保数据的准确性。\n",
    "然后我们需要明确分析的问题，建立零假设和备选假设，判断样本的抽样分布类型和检测方式，最后根据得到的P值，判断实验性的显著性水平，得出结论。"
   ]
  },
  {
   "cell_type": "markdown",
   "metadata": {
    "id": "C5443EB75EEF4CC78E1378A930D48B53",
    "jupyter": {},
    "mdEditEnable": false,
    "slideshow": {
     "slide_type": "slide"
    },
    "tags": []
   },
   "source": [
    "# 2.数据分析"
   ]
  },
  {
   "cell_type": "markdown",
   "metadata": {
    "id": "5EF426329486450488303A30B5F22388",
    "jupyter": {},
    "mdEditEnable": false,
    "slideshow": {
     "slide_type": "slide"
    },
    "tags": []
   },
   "source": [
    "## 2.1数据清洗"
   ]
  },
  {
   "cell_type": "markdown",
   "metadata": {
    "id": "8DB7946808CA4C3C88CC942A58550638",
    "jupyter": {},
    "mdEditEnable": false,
    "slideshow": {
     "slide_type": "slide"
    },
    "tags": []
   },
   "source": [
    "查询并处理缺失值；查询并处理重复数据；检查并修改逻辑错误（在实验设计中给treatment组看到的是新页面，给control组对应的是旧的页面，不符合的数据需要删除）"
   ]
  },
  {
   "cell_type": "code",
   "execution_count": 5,
   "metadata": {
    "ExecuteTime": {
     "end_time": "2021-03-14T13:53:19.097873Z",
     "start_time": "2021-03-14T13:53:19.065018Z"
    },
    "id": "50DA67D6A366449F80F7C03E02A33C31",
    "jupyter": {},
    "scrolled": false,
    "slideshow": {
     "slide_type": "slide"
    },
    "tags": []
   },
   "outputs": [
    {
     "data": {
      "text/plain": [
       "user_id         0\n",
       "timestamp       0\n",
       "group           0\n",
       "landing_page    0\n",
       "converted       0\n",
       "dtype: int64"
      ]
     },
     "execution_count": 5,
     "metadata": {},
     "output_type": "execute_result"
    }
   ],
   "source": [
    "'''【检查缺失值】'''\n",
    "ABtest.isnull().sum()"
   ]
  },
  {
   "cell_type": "code",
   "execution_count": 6,
   "metadata": {
    "ExecuteTime": {
     "end_time": "2021-03-14T13:53:19.167360Z",
     "start_time": "2021-03-14T13:53:19.098830Z"
    },
    "id": "A98829943EFC484999EFBDF94DB21C76",
    "jupyter": {},
    "scrolled": false,
    "slideshow": {
     "slide_type": "slide"
    },
    "tags": []
   },
   "outputs": [
    {
     "name": "stdout",
     "output_type": "stream",
     "text": [
      "实验组看到老页面的人数:1965, 对照组看到新页面的人数:1928\n"
     ]
    }
   ],
   "source": [
    "'''【检查逻辑错误】'''\n",
    "# 查询是否存在分组group与展示页面版本landing_page不符情况\n",
    "t_old_error = len(ABtest[(ABtest['group'] == 'treatment') & (ABtest['landing_page'] == 'old_page')])\n",
    "c_new_error = len(ABtest[(ABtest['group'] == 'control') & (ABtest['landing_page'] == 'new_page')])\n",
    "print(\n",
    "    '实验组看到老页面的人数:{}, 对照组看到新页面的人数:{}'.format(\n",
    "        t_old_error,\n",
    "        c_new_error))"
   ]
  },
  {
   "cell_type": "code",
   "execution_count": 7,
   "metadata": {
    "ExecuteTime": {
     "end_time": "2021-03-14T13:53:19.248262Z",
     "start_time": "2021-03-14T13:53:19.169622Z"
    },
    "id": "4496E11AC247408CB497013444DD29CC",
    "jupyter": {},
    "scrolled": false,
    "slideshow": {
     "slide_type": "slide"
    },
    "tags": []
   },
   "outputs": [
    {
     "name": "stdout",
     "output_type": "stream",
     "text": [
      "正常数据 290585\n"
     ]
    }
   ],
   "source": [
    "#正常数据数量：排除不匹配数据之后的行数\n",
    "ABtest = ABtest[((ABtest['group'] == 'treatment') & (ABtest['landing_page'] == 'new_page'))\n",
    "                      | ((ABtest['group'] == 'control') & (ABtest['landing_page'] == 'old_page'))]\n",
    "print('正常数据',len(ABtest))"
   ]
  },
  {
   "cell_type": "code",
   "execution_count": 8,
   "metadata": {
    "ExecuteTime": {
     "end_time": "2021-03-14T13:53:19.275537Z",
     "start_time": "2021-03-14T13:53:19.250115Z"
    },
    "id": "3E77BA2064AD46D48D06FAD612AFF208",
    "jupyter": {},
    "scrolled": false,
    "slideshow": {
     "slide_type": "slide"
    },
    "tags": []
   },
   "outputs": [
    {
     "data": {
      "text/html": [
       "<div>\n",
       "<style scoped>\n",
       "    .dataframe tbody tr th:only-of-type {\n",
       "        vertical-align: middle;\n",
       "    }\n",
       "\n",
       "    .dataframe tbody tr th {\n",
       "        vertical-align: top;\n",
       "    }\n",
       "\n",
       "    .dataframe thead th {\n",
       "        text-align: right;\n",
       "    }\n",
       "</style>\n",
       "<table border=\"1\" class=\"dataframe\">\n",
       "  <thead>\n",
       "    <tr style=\"text-align: right;\">\n",
       "      <th></th>\n",
       "      <th>user_id</th>\n",
       "      <th>timestamp</th>\n",
       "      <th>group</th>\n",
       "      <th>landing_page</th>\n",
       "      <th>converted</th>\n",
       "    </tr>\n",
       "  </thead>\n",
       "  <tbody>\n",
       "    <tr>\n",
       "      <th>0</th>\n",
       "      <td>851104</td>\n",
       "      <td>2017-01-21 22:11:48.556739</td>\n",
       "      <td>control</td>\n",
       "      <td>old_page</td>\n",
       "      <td>0</td>\n",
       "    </tr>\n",
       "    <tr>\n",
       "      <th>1</th>\n",
       "      <td>804228</td>\n",
       "      <td>2017-01-12 08:01:45.159739</td>\n",
       "      <td>control</td>\n",
       "      <td>old_page</td>\n",
       "      <td>0</td>\n",
       "    </tr>\n",
       "    <tr>\n",
       "      <th>2</th>\n",
       "      <td>661590</td>\n",
       "      <td>2017-01-11 16:55:06.154213</td>\n",
       "      <td>treatment</td>\n",
       "      <td>new_page</td>\n",
       "      <td>0</td>\n",
       "    </tr>\n",
       "    <tr>\n",
       "      <th>3</th>\n",
       "      <td>853541</td>\n",
       "      <td>2017-01-08 18:28:03.143765</td>\n",
       "      <td>treatment</td>\n",
       "      <td>new_page</td>\n",
       "      <td>0</td>\n",
       "    </tr>\n",
       "    <tr>\n",
       "      <th>4</th>\n",
       "      <td>864975</td>\n",
       "      <td>2017-01-21 01:52:26.210827</td>\n",
       "      <td>control</td>\n",
       "      <td>old_page</td>\n",
       "      <td>1</td>\n",
       "    </tr>\n",
       "  </tbody>\n",
       "</table>\n",
       "</div>"
      ],
      "text/plain": [
       "   user_id                   timestamp      group landing_page  converted\n",
       "0   851104  2017-01-21 22:11:48.556739    control     old_page          0\n",
       "1   804228  2017-01-12 08:01:45.159739    control     old_page          0\n",
       "2   661590  2017-01-11 16:55:06.154213  treatment     new_page          0\n",
       "3   853541  2017-01-08 18:28:03.143765  treatment     new_page          0\n",
       "4   864975  2017-01-21 01:52:26.210827    control     old_page          1"
      ]
     },
     "execution_count": 8,
     "metadata": {},
     "output_type": "execute_result"
    }
   ],
   "source": [
    "'''【检查重复值】'''\n",
    "#drop_duplicates函数：查找重复值\n",
    "ABtest.drop_duplicates(subset='user_id').head()"
   ]
  },
  {
   "cell_type": "code",
   "execution_count": 9,
   "metadata": {
    "ExecuteTime": {
     "end_time": "2021-03-14T13:53:19.355001Z",
     "start_time": "2021-03-14T13:53:19.277035Z"
    },
    "id": "07A1B1CB31484FB389FF45A427BF8123",
    "jupyter": {},
    "scrolled": false,
    "slideshow": {
     "slide_type": "slide"
    },
    "tags": []
   },
   "outputs": [
    {
     "name": "stdout",
     "output_type": "stream",
     "text": [
      "<class 'pandas.core.frame.DataFrame'>\n",
      "RangeIndex: 290584 entries, 0 to 290583\n",
      "Data columns (total 6 columns):\n",
      " #   Column        Non-Null Count   Dtype \n",
      "---  ------        --------------   ----- \n",
      " 0   index         290584 non-null  int64 \n",
      " 1   user_id       290584 non-null  int64 \n",
      " 2   timestamp     290584 non-null  object\n",
      " 3   group         290584 non-null  object\n",
      " 4   landing_page  290584 non-null  object\n",
      " 5   converted     290584 non-null  int64 \n",
      "dtypes: int64(3), object(3)\n",
      "memory usage: 13.3+ MB\n"
     ]
    }
   ],
   "source": [
    "#删除重复值：仅保留最近一条信息\n",
    "ABtest.drop_duplicates(subset=['user_id'],inplace=True,keep=\"first\")\n",
    "# 重置索引 \n",
    "ABtest= ABtest.reset_index()\n",
    "#通过info函数查看数据信息\n",
    "ABtest.info()"
   ]
  },
  {
   "cell_type": "code",
   "execution_count": 10,
   "metadata": {
    "ExecuteTime": {
     "end_time": "2021-03-14T13:53:19.384676Z",
     "start_time": "2021-03-14T13:53:19.356109Z"
    },
    "id": "1A8B74B662F149AE8F1E3A6AFB9FB33E",
    "jupyter": {},
    "scrolled": false,
    "slideshow": {
     "slide_type": "slide"
    },
    "tags": []
   },
   "outputs": [
    {
     "name": "stdout",
     "output_type": "stream",
     "text": [
      "看到新页面的用户占比： 50.01%\n"
     ]
    }
   ],
   "source": [
    "#流量分配比例：看到新页面的用户占比多少\n",
    "zb=ABtest[ABtest.landing_page==\"new_page\"].shape[0]/ABtest.shape[0]\n",
    "print('看到新页面的用户占比：','%.2f%%'%(zb*100))"
   ]
  },
  {
   "cell_type": "markdown",
   "metadata": {
    "id": "DAAC4B5949AC4B738A4E64430027D66F",
    "jupyter": {},
    "mdEditEnable": false,
    "slideshow": {
     "slide_type": "slide"
    },
    "tags": []
   },
   "source": [
    "看到新页面和老页面的用户各占50%左右，流量分配相对均衡"
   ]
  },
  {
   "cell_type": "markdown",
   "metadata": {
    "id": "ED77C5F8F50549AF8FAF39CD7A1CDC5D",
    "jupyter": {},
    "mdEditEnable": false,
    "slideshow": {
     "slide_type": "slide"
    },
    "tags": []
   },
   "source": [
    "## 2.2假设检验"
   ]
  },
  {
   "cell_type": "markdown",
   "metadata": {
    "id": "893C52503A5E4049926737A29DA4C641",
    "jupyter": {},
    "mdEditEnable": false,
    "slideshow": {
     "slide_type": "slide"
    },
    "tags": []
   },
   "source": [
    "### 2.2.1明确问题"
   ]
  },
  {
   "cell_type": "markdown",
   "metadata": {
    "id": "961A0B0D53A7466487A0F81CD2FDB0A8",
    "jupyter": {},
    "mdEditEnable": false,
    "slideshow": {
     "slide_type": "slide"
    },
    "tags": []
   },
   "source": [
    "**【提出零假设和备选假设】**\n",
    "> 记旧页面的转化率为 p1，新页面的转化率为 p2  \n",
    "\n",
    "零假设  ：  p1>p2  即p1-p2>0  \n",
    "备择假设  ：p1<p2  即 p1-p2<0  "
   ]
  },
  {
   "cell_type": "markdown",
   "metadata": {
    "id": "72417C08F1154DCA9D79CBE60588C735",
    "jupyter": {},
    "mdEditEnable": false,
    "slideshow": {
     "slide_type": "slide"
    },
    "tags": []
   },
   "source": [
    "**【确定抽样分布类型】**\n",
    "本次实验满足的判断结果只有0和1（转化和未转化），符合0-1分布  \n",
    "> **0-1分布**：就是n=1情况下的二项分布，任何只有两种结果的随机现象都服从0-1分布"
   ]
  },
  {
   "cell_type": "markdown",
   "metadata": {
    "id": "CAA5C568FFB9482A8D1752DE922F03BE",
    "jupyter": {},
    "mdEditEnable": false,
    "slideshow": {
     "slide_type": "slide"
    },
    "tags": []
   },
   "source": [
    "**【确定检验类型】**\n",
    "\n",
    "![Image Name](https://cdn.kesci.com/upload/image/qiej7fgj1a.png)\n",
    "\n",
    "独立双样本，样本n>30，总体的均值和标准差未知，用Z检验。  \n",
    "> 其中，pc为转化率的联合估计"
   ]
  },
  {
   "cell_type": "markdown",
   "metadata": {
    "id": "7511790029404D7A9B1704637F7541A0",
    "jupyter": {},
    "mdEditEnable": false,
    "slideshow": {
     "slide_type": "slide"
    },
    "tags": []
   },
   "source": [
    "**【确定检验方向】**\n",
    "> 判断是否相等就是双侧,是否大于或小于就是单测  \n",
    "\n",
    "根据备择假设，确定检验方向为单侧（左尾）"
   ]
  },
  {
   "cell_type": "markdown",
   "metadata": {
    "id": "00EC3B6A0786435A8A40F11B0821EEC1",
    "jupyter": {},
    "mdEditEnable": false,
    "slideshow": {
     "slide_type": "slide"
    },
    "tags": []
   },
   "source": [
    "**【给定显著性水平α】**\n",
    "本次检验α取0.05。\n",
    "\n",
    "> **显著水平α**：时在进行假设检验时先确定的一个可允许的作为判断界限的小概率标准（用于和P值比较大小而最终确定结论，一般常用值：0.05，0.01）"
   ]
  },
  {
   "cell_type": "markdown",
   "metadata": {
    "id": "5739DF13289B446A8B8C78F1E3D774AE",
    "jupyter": {},
    "mdEditEnable": false,
    "slideshow": {
     "slide_type": "slide"
    },
    "tags": []
   },
   "source": [
    "### 2.2.2计算检验统计量"
   ]
  },
  {
   "cell_type": "markdown",
   "metadata": {
    "id": "F4DD9F03A4E642DF8F4559C9E80E6676",
    "jupyter": {},
    "mdEditEnable": false,
    "slideshow": {
     "slide_type": "slide"
    },
    "tags": []
   },
   "source": [
    "Z=（p1-p2）/sqrt[p1×(1-p1)/n1+p2×(1-p2)/n2] "
   ]
  },
  {
   "cell_type": "code",
   "execution_count": 11,
   "metadata": {
    "ExecuteTime": {
     "end_time": "2021-03-14T13:53:19.454610Z",
     "start_time": "2021-03-14T13:53:19.385706Z"
    },
    "id": "07B096B948C94F3C85E686CC0E51519D",
    "jupyter": {},
    "mdEditEnable": false,
    "scrolled": false,
    "slideshow": {
     "slide_type": "slide"
    },
    "tags": []
   },
   "outputs": [
    {
     "name": "stdout",
     "output_type": "stream",
     "text": [
      "旧版总受试用户数: 145274 旧版转化用户数: 17489 旧版转化率: 0.1203863045004612\n",
      "新版总受试用户数: 145310 新版转化用户数: 17872 新版转化率: 0.12299222352212512\n",
      "转化率的联合估计: 0.12168942543292129\n",
      "检验统计量z: -2.1484056695589\n",
      "-1.6448536269514729\n",
      "落入拒绝域，拒绝零假设\n"
     ]
    }
   ],
   "source": [
    "# 旧版、新版用户数（query是条件过滤函数）\n",
    "n_old = ABtest.query('group==\"control\"').shape[0]\n",
    "n_new = ABtest.query('group==\"treatment\"').shape[0]\n",
    "# 旧版、新版转化用户数\n",
    "convert_old = ABtest.query('group==\"control\" & converted==1').shape[0]\n",
    "convert_new = ABtest.query('group==\"treatment\" & converted==1').shape[0]\n",
    "# 旧版、新版转化率\n",
    "p_old = convert_old / n_old\n",
    "p_new = convert_new / n_new\n",
    "p_c = (convert_old + convert_new)/(n_old + n_new)\n",
    "z = (p_old - p_new)/ np.sqrt(p_c*(1 - p_c)*( 1/n_old + 1/n_new))\n",
    "from scipy.stats import norm\n",
    "z_alpha = norm.ppf(0.05)\n",
    "# 若为双侧，则norm.ppf(0.05/2)\n",
    "print('旧版总受试用户数:', n_old, '旧版转化用户数:', convert_old, '旧版转化率:', p_old)\n",
    "print('新版总受试用户数:', n_new, '新版转化用户数:', convert_new, '新版转化率:', p_new)\n",
    "print('转化率的联合估计:', p_c)\n",
    "print('检验统计量z:', z)\n",
    "print(z_alpha)\n",
    "result = \"落入拒绝域，拒绝零假设\" if abs(z) > abs(z_alpha) else \"接受零假设\"\n",
    "print(result)"
   ]
  },
  {
   "cell_type": "code",
   "execution_count": 12,
   "metadata": {
    "ExecuteTime": {
     "end_time": "2021-03-14T13:53:19.508759Z",
     "start_time": "2021-03-14T13:53:19.455674Z"
    },
    "id": "B6C0531A89EF4B3686855E2D7F3EB6EC",
    "jupyter": {},
    "scrolled": false,
    "slideshow": {
     "slide_type": "slide"
    },
    "tags": []
   },
   "outputs": [
    {
     "name": "stdout",
     "output_type": "stream",
     "text": [
      "Cohen's d为： -0.007970992391336005\n"
     ]
    }
   ],
   "source": [
    "# 合并标准差\n",
    "std_old = ABtest[ABtest.landing_page==\"old_page\"].converted.std()\n",
    "std_new = ABtest[ABtest.landing_page==\"new_page\"].converted.std()\n",
    "s = np.sqrt(((n_old - 1)* std_old**2 + (n_new - 1)* std_new**2 ) / (n_old + n_new - 2))\n",
    "# 效应量Cohen's d\n",
    "d = (p_old - p_new) / s\n",
    "print('Cohen\\'s d为：', d)"
   ]
  },
  {
   "cell_type": "markdown",
   "metadata": {
    "id": "43E87952D13647119F32D676F6D6557F",
    "jupyter": {},
    "mdEditEnable": false,
    "slideshow": {
     "slide_type": "slide"
    },
    "tags": []
   },
   "source": [
    "# 3.分析结论"
   ]
  },
  {
   "cell_type": "markdown",
   "metadata": {
    "id": "B47BC962C9844FFF8E76882C9315242E",
    "jupyter": {},
    "mdEditEnable": false,
    "slideshow": {
     "slide_type": "slide"
    },
    "tags": []
   },
   "source": [
    "Cohen's d的值约为-0.008304，绝对值很小。两者虽有显著性水平5%时统计意义上的显著差异，但差异的效应量很小。可以理解为**显著有差异，但差异的大小不显著**。"
   ]
  }
 ],
 "metadata": {
  "hide_input": false,
  "kernelspec": {
   "display_name": "Python 3",
   "language": "python",
   "name": "python3"
  },
  "language_info": {
   "codemirror_mode": {
    "name": "ipython",
    "version": 3
   },
   "file_extension": ".py",
   "mimetype": "text/x-python",
   "name": "python",
   "nbconvert_exporter": "python",
   "pygments_lexer": "ipython3",
   "version": "3.8.5"
  },
  "toc": {
   "base_numbering": 1,
   "nav_menu": {},
   "number_sections": true,
   "sideBar": true,
   "skip_h1_title": false,
   "title_cell": "Table of Contents",
   "title_sidebar": "Contents",
   "toc_cell": false,
   "toc_position": {},
   "toc_section_display": true,
   "toc_window_display": false
  },
  "varInspector": {
   "cols": {
    "lenName": 16,
    "lenType": 16,
    "lenVar": 40
   },
   "kernels_config": {
    "python": {
     "delete_cmd_postfix": "",
     "delete_cmd_prefix": "del ",
     "library": "var_list.py",
     "varRefreshCmd": "print(var_dic_list())"
    },
    "r": {
     "delete_cmd_postfix": ") ",
     "delete_cmd_prefix": "rm(",
     "library": "var_list.r",
     "varRefreshCmd": "cat(var_dic_list()) "
    }
   },
   "types_to_exclude": [
    "module",
    "function",
    "builtin_function_or_method",
    "instance",
    "_Feature"
   ],
   "window_display": false
  }
 },
 "nbformat": 4,
 "nbformat_minor": 1
}
